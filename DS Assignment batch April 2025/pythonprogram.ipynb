{
 "cells": [
  {
   "cell_type": "markdown",
   "id": "80eae5e1",
   "metadata": {},
   "source": [
    "Exercise 1: Prime Numbers\n",
    "Write a Python program that checks whether a given number is prime or not. A prime number is a natural number greater than 1 that has no positive divisors other than 1 and itself."
   ]
  },
  {
   "cell_type": "code",
   "execution_count": 2,
   "id": "d4fdff3a",
   "metadata": {},
   "outputs": [
    {
     "name": "stdout",
     "output_type": "stream",
     "text": [
      "10 is not a prime number.\n"
     ]
    }
   ],
   "source": [
    "def is_prime(n):\n",
    "    if n <= 1:\n",
    "        return False\n",
    "    if n == 2:\n",
    "        return True \n",
    "    if n % 2 == 0:\n",
    "        return False  \n",
    "\n",
    "    # Check divisibility from 3 to sqrt(n)\n",
    "    for i in range(3, int(n**0.5) + 1, 2):\n",
    "        if n % i == 0:\n",
    "            return False\n",
    "    return True\n",
    "\n",
    "# Input from the user\n",
    "num = int(input(\"Enter a number to check if it is prime: \"))\n",
    "\n",
    "# Check and print result\n",
    "if is_prime(num):\n",
    "    print(f\"{num} is a prime number.\")\n",
    "else:\n",
    "    print(f\"{num} is not a prime number.\")\n"
   ]
  },
  {
   "cell_type": "markdown",
   "id": "93f2af06",
   "metadata": {},
   "source": [
    "Exercise 2: Product of Random Numbers\n",
    "Develop a Python program that generates two random numbers and asks the user to enter the product of these numbers. The program should then check if the user's answer is correct and display an appropriate message."
   ]
  },
  {
   "cell_type": "code",
   "execution_count": 5,
   "id": "146cad03",
   "metadata": {},
   "outputs": [
    {
     "name": "stdout",
     "output_type": "stream",
     "text": [
      "What is the product of 9 and 6?\n",
      "❌ Incorrect. The correct answer is 54.\n"
     ]
    }
   ],
   "source": [
    "import random\n",
    "\n",
    "# Generate two random integers between 1 and 10\n",
    "num1 = random.randint(1, 10)\n",
    "num2 = random.randint(1, 10)\n",
    "\n",
    "# Ask the user to enter the product\n",
    "print(f\"What is the product of {num1} and {num2}?\")\n",
    "user_answer = int(input(\"Your answer: \"))\n",
    "\n",
    "# Calculate the correct product\n",
    "correct_answer = num1 * num2\n",
    "\n",
    "# Check if the user's answer is correct\n",
    "if user_answer == correct_answer:\n",
    "    print(\"✅ Correct! Well done.\")\n",
    "else:\n",
    "    print(f\"❌ Incorrect. The correct answer is {correct_answer}.\")\n"
   ]
  },
  {
   "cell_type": "markdown",
   "id": "baea1c8a",
   "metadata": {},
   "source": [
    "Exercise 3: Squares of Even/Odd Numbers\n",
    "Create a Python script that prints the squares of all even or odd numbers within the range of 100 to 200. Choose either even or odd numbers and document your choice in the code."
   ]
  },
  {
   "cell_type": "code",
   "execution_count": null,
   "id": "8d8eee4f",
   "metadata": {},
   "outputs": [],
   "source": [
    "print(\"Squares of even numbers from 100 to 200:\\n\")\n",
    "\n",
    "for number in range(100, 201):\n",
    "    if number % 2 == 0:  # Check if the number is even\n",
    "        square = number ** 2\n",
    "        print(f\"{number}^2 = {square}\")\n"
   ]
  },
  {
   "cell_type": "markdown",
   "id": "1e543cac",
   "metadata": {},
   "source": [
    "Exercise 4: Word counter\n",
    "write a program to count the number of words in a given text.\n",
    "example:\n",
    "input_text = \"This is a sample text. This text will be used to demonstrate the word counter.\"\n",
    "Expected output:\n",
    "'This': 2 \n",
    "'is': 1\n",
    "'a': 1\n",
    "'sample': 1\n",
    "'text.': 1"
   ]
  },
  {
   "cell_type": "code",
   "execution_count": 7,
   "id": "4a7f3d47",
   "metadata": {},
   "outputs": [
    {
     "name": "stdout",
     "output_type": "stream",
     "text": [
      "'This': 2\n",
      "'is': 1\n",
      "'a': 1\n",
      "'sample': 1\n",
      "'text.': 1\n",
      "'text': 1\n",
      "'will': 1\n",
      "'be': 1\n",
      "'used': 1\n",
      "'to': 1\n",
      "'demonstrate': 1\n",
      "'the': 1\n",
      "'word': 1\n",
      "'counter.': 1\n"
     ]
    }
   ],
   "source": [
    "def word_counter(text):\n",
    "    words = text.split()  # Split the text into words\n",
    "    word_count = {}\n",
    "\n",
    "    for word in words:\n",
    "        word = word.strip()  # Remove leading/trailing whitespace\n",
    "        if word in word_count:\n",
    "            word_count[word] += 1\n",
    "        else:\n",
    "            word_count[word] = 1\n",
    "\n",
    "    # Print the word count\n",
    "    for word, count in word_count.items():\n",
    "        print(f\"'{word}': {count}\")\n",
    "\n",
    "# Example input\n",
    "input_text = \"This is a sample text. This text will be used to demonstrate the word counter.\"\n",
    "word_counter(input_text)\n"
   ]
  },
  {
   "cell_type": "markdown",
   "id": "9d87a1e1",
   "metadata": {},
   "source": [
    "Exercise 5: Check for Palindrome\n",
    "Write a Python function called is_palindrome that takes a string as input and returns True if the string is a palindrome, and False otherwise. A palindrome is a word, phrase, number, or other sequence of characters that reads the same forward and backward, ignoring spaces, punctuation, and capitalization.\n",
    "Example:\n",
    "Input: \"racecar\"\n",
    "Expected Output: True"
   ]
  },
  {
   "cell_type": "code",
   "execution_count": 8,
   "id": "d4a045c6",
   "metadata": {},
   "outputs": [
    {
     "name": "stdout",
     "output_type": "stream",
     "text": [
      "Input: racecar\n",
      "Is palindrome? True\n"
     ]
    }
   ],
   "source": [
    "import string\n",
    "\n",
    "def is_palindrome(text):\n",
    "    # Convert to lowercase and remove punctuation and spaces\n",
    "    cleaned_text = ''.join(char.lower() for char in text if char.isalnum())\n",
    "\n",
    "    # Check if cleaned text is the same forward and backward\n",
    "    return cleaned_text == cleaned_text[::-1]\n",
    "\n",
    "# Example usage\n",
    "input_text = \"racecar\"\n",
    "print(\"Input:\", input_text)\n",
    "print(\"Is palindrome?\", is_palindrome(input_text))  # Expected: True\n"
   ]
  }
 ],
 "metadata": {
  "kernelspec": {
   "display_name": "base",
   "language": "python",
   "name": "python3"
  },
  "language_info": {
   "codemirror_mode": {
    "name": "ipython",
    "version": 3
   },
   "file_extension": ".py",
   "mimetype": "text/x-python",
   "name": "python",
   "nbconvert_exporter": "python",
   "pygments_lexer": "ipython3",
   "version": "3.12.7"
  }
 },
 "nbformat": 4,
 "nbformat_minor": 5
}
