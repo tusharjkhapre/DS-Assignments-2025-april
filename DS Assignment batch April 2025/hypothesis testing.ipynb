{
 "cells": [
  {
   "cell_type": "code",
   "execution_count": 49,
   "id": "9e6d0248",
   "metadata": {},
   "outputs": [
    {
     "name": "stdout",
     "output_type": "stream",
     "text": [
      "       Satisfaction  Smart Thermostat  Smart Light  Total\n",
      "0    Very Satisfied                50           70    120\n",
      "1         Satisfied                80          100    180\n",
      "2           Neutral                60           90    150\n",
      "3       Unsatisfied                30           50     80\n",
      "4  Very Unsatisfied                20           50     70\n",
      "5             Total               240          360    600\n"
     ]
    }
   ],
   "source": [
    "import pandas as pd\n",
    "\n",
    "# Original data\n",
    "data = {\n",
    "    'Satisfaction': ['Very Satisfied', 'Satisfied', 'Neutral', 'Unsatisfied', 'Very Unsatisfied'],\n",
    "    'Smart Thermostat': [50, 80, 60, 30, 20],\n",
    "    'Smart Light': [70, 100, 90, 50, 50],\n",
    "    'Total': [120, 180, 150, 80, 70]\n",
    "}\n",
    "\n",
    "# Step 1: Create DataFrame\n",
    "df = pd.DataFrame(data)\n",
    "\n",
    "# Step 2: Calculate column-wise totals (for numeric columns)\n",
    "totals = df.select_dtypes(include='number').sum()\n",
    "\n",
    "# Step 3: Add the 'Satisfaction' column label as 'Total' for the total row\n",
    "totals['Satisfaction'] = 'Total'\n",
    "\n",
    "# Step 4: Create a one-row DataFrame for the totals\n",
    "totals_df = pd.DataFrame([totals])[df.columns]  # Ensuring columns match\n",
    "\n",
    "# Step 5: Append the total row to the original DataFrame\n",
    "final_df = pd.concat([df, totals_df], ignore_index=True)\n",
    "\n",
    "# Output the final DataFrame\n",
    "print(final_df)\n"
   ]
  },
  {
   "cell_type": "code",
   "execution_count": 1,
   "id": "c9248c8d",
   "metadata": {},
   "outputs": [
    {
     "name": "stdout",
     "output_type": "stream",
     "text": [
      "Chi-Square Statistic: 5.638227513227513\n",
      "P-Value: 0.22784371130697179\n",
      "Degrees of Freedom: 4\n",
      "Expected Frequencies: \n",
      "[[ 48.  72.]\n",
      " [ 72. 108.]\n",
      " [ 60.  90.]\n",
      " [ 32.  48.]\n",
      " [ 28.  42.]]\n",
      "Critical Value: 9.487729036781154\n",
      "Fail to reject the null hypothesis: There is no significant association between device type and satisfaction level.\n"
     ]
    }
   ],
   "source": [
    "import numpy as np\n",
    "import scipy.stats as stats\n",
    "\n",
    "# Step 1: Define the observed data (contingency table)\n",
    "observed = np.array([[50, 70], [80, 100], [60, 90], [30, 50], [20, 50]])\n",
    "\n",
    "# Step 2: Perform the Chi-Square test for independence\n",
    "chi2_stat, p_value, dof, expected = stats.chi2_contingency(observed)\n",
    "\n",
    "# Step 3: Print the results\n",
    "print(f\"Chi-Square Statistic: {chi2_stat}\")\n",
    "print(f\"P-Value: {p_value}\")\n",
    "print(f\"Degrees of Freedom: {dof}\")\n",
    "print(f\"Expected Frequencies: \\n{expected}\")\n",
    "\n",
    "# Step 4: Determine the critical value at alpha = 0.05 and df = 4\n",
    "critical_value = stats.chi2.ppf(1 - 0.05, dof)\n",
    "\n",
    "print(f\"Critical Value: {critical_value}\")\n",
    "\n",
    "# Step 5: Make a decision\n",
    "if chi2_stat > critical_value:\n",
    "    print(\"Reject the null hypothesis: There is a significant association between device type and satisfaction level.\")\n",
    "else:\n",
    "    print(\"Fail to reject the null hypothesis: There is no significant association between device type and satisfaction level.\")\n"
   ]
  }
 ],
 "metadata": {
  "kernelspec": {
   "display_name": "base",
   "language": "python",
   "name": "python3"
  },
  "language_info": {
   "codemirror_mode": {
    "name": "ipython",
    "version": 3
   },
   "file_extension": ".py",
   "mimetype": "text/x-python",
   "name": "python",
   "nbconvert_exporter": "python",
   "pygments_lexer": "ipython3",
   "version": "3.12.7"
  }
 },
 "nbformat": 4,
 "nbformat_minor": 5
}
