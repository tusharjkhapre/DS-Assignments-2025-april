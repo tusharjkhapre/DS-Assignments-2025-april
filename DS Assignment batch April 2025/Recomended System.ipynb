{
 "cells": [
  {
   "cell_type": "code",
   "execution_count": 1,
   "id": "416bbcc5",
   "metadata": {},
   "outputs": [],
   "source": [
    "import pandas as pd"
   ]
  },
  {
   "cell_type": "code",
   "execution_count": 2,
   "id": "6237bda6",
   "metadata": {},
   "outputs": [],
   "source": [
    "# Load data\n",
    "df = pd.read_csv(r\"C:\\Users\\Tushar Khapre\\Desktop\\Data science assigment\\DS Assignment batch April 2025\\anime.csv\")"
   ]
  },
  {
   "cell_type": "code",
   "execution_count": null,
   "id": "1c7e3481",
   "metadata": {},
   "outputs": [],
   "source": []
  },
  {
   "cell_type": "code",
   "execution_count": 3,
   "id": "637729f2",
   "metadata": {},
   "outputs": [
    {
     "data": {
      "text/plain": [
       "anime_id      0\n",
       "name          0\n",
       "genre        62\n",
       "type         25\n",
       "episodes      0\n",
       "rating      230\n",
       "members       0\n",
       "dtype: int64"
      ]
     },
     "execution_count": 3,
     "metadata": {},
     "output_type": "execute_result"
    }
   ],
   "source": [
    "df.isnull().sum()"
   ]
  },
  {
   "cell_type": "code",
   "execution_count": 4,
   "id": "be34f8ce",
   "metadata": {},
   "outputs": [
    {
     "name": "stderr",
     "output_type": "stream",
     "text": [
      "C:\\Users\\Tushar Khapre\\AppData\\Local\\Temp\\ipykernel_5732\\3073192814.py:2: FutureWarning: A value is trying to be set on a copy of a DataFrame or Series through chained assignment using an inplace method.\n",
      "The behavior will change in pandas 3.0. This inplace method will never work because the intermediate object on which we are setting values always behaves as a copy.\n",
      "\n",
      "For example, when doing 'df[col].method(value, inplace=True)', try using 'df.method({col: value}, inplace=True)' or df[col] = df[col].method(value) instead, to perform the operation inplace on the original object.\n",
      "\n",
      "\n",
      "  df['genre'].fillna('Unknown', inplace=True)\n"
     ]
    }
   ],
   "source": [
    "# Drop or fill missing values (e.g., fill missing genre with 'Unknown')\n",
    "df['genre'].fillna('Unknown', inplace=True)"
   ]
  },
  {
   "cell_type": "code",
   "execution_count": 5,
   "id": "cbb3df3e",
   "metadata": {},
   "outputs": [
    {
     "data": {
      "text/plain": [
       "(12294, 7)"
      ]
     },
     "execution_count": 5,
     "metadata": {},
     "output_type": "execute_result"
    }
   ],
   "source": [
    "df.shape"
   ]
  },
  {
   "cell_type": "code",
   "execution_count": 6,
   "id": "22f918ed",
   "metadata": {},
   "outputs": [],
   "source": [
    "df.dropna(subset=['rating'], inplace=True)"
   ]
  },
  {
   "cell_type": "code",
   "execution_count": 7,
   "id": "4ab2778a",
   "metadata": {},
   "outputs": [
    {
     "data": {
      "text/plain": [
       "anime_id    0\n",
       "name        0\n",
       "genre       0\n",
       "type        0\n",
       "episodes    0\n",
       "rating      0\n",
       "members     0\n",
       "dtype: int64"
      ]
     },
     "execution_count": 7,
     "metadata": {},
     "output_type": "execute_result"
    }
   ],
   "source": [
    "df.isnull().sum()"
   ]
  },
  {
   "cell_type": "code",
   "execution_count": 8,
   "id": "0a1c692a",
   "metadata": {},
   "outputs": [],
   "source": [
    "from sklearn.preprocessing import MultiLabelBinarizer\n",
    "mlb = MultiLabelBinarizer()\n",
    "genre_encoded = mlb.fit_transform(df['genre'])\n",
    "genre_df = pd.DataFrame(genre_encoded, columns=mlb.classes_)"
   ]
  },
  {
   "cell_type": "code",
   "execution_count": 9,
   "id": "c5bf7a7e",
   "metadata": {},
   "outputs": [],
   "source": [
    "# Combine features\n",
    "features = pd.concat([genre_df, df[['rating', 'members']].reset_index(drop=True)], axis=1)"
   ]
  },
  {
   "cell_type": "code",
   "execution_count": 10,
   "id": "fe10a846",
   "metadata": {},
   "outputs": [],
   "source": [
    "from sklearn.preprocessing import MinMaxScaler\n",
    "\n",
    "scaler = MinMaxScaler()\n",
    "features_scaled = scaler.fit_transform(features)"
   ]
  },
  {
   "cell_type": "code",
   "execution_count": 11,
   "id": "f4e34bca",
   "metadata": {},
   "outputs": [
    {
     "name": "stdout",
     "output_type": "stream",
     "text": [
      "615                                    Naruto: Shippuuden\n",
      "1472          Naruto: Shippuuden Movie 4 - The Lost Tower\n",
      "1573    Naruto: Shippuuden Movie 3 - Hi no Ishi wo Tsu...\n",
      "486                              Boruto: Naruto the Movie\n",
      "1343                                          Naruto x UT\n",
      "Name: name, dtype: object\n"
     ]
    }
   ],
   "source": [
    "from sklearn.metrics.pairwise import cosine_similarity\n",
    "\n",
    "# Compute cosine similarity\n",
    "cos_sim = cosine_similarity(features_scaled)\n",
    "\n",
    "# Function to recommend similar anime\n",
    "def recommend_anime(anime_title, df, sim_matrix, top_n=5):\n",
    "    idx = df[df['name'] == anime_title].index[0]\n",
    "    sim_scores = list(enumerate(sim_matrix[idx]))\n",
    "    sim_scores = sorted(sim_scores, key=lambda x: x[1], reverse=True)\n",
    "    sim_scores = sim_scores[1:top_n+1]  # Skip self-match\n",
    "    anime_indices = [i[0] for i in sim_scores]\n",
    "    return df['name'].iloc[anime_indices]\n",
    "\n",
    "# Example\n",
    "print(recommend_anime(\"Naruto\", df, cos_sim))"
   ]
  },
  {
   "cell_type": "code",
   "execution_count": 16,
   "id": "e0949d37",
   "metadata": {},
   "outputs": [
    {
     "name": "stdout",
     "output_type": "stream",
     "text": [
      "[21185, 6922, 492, 17265, 49]\n",
      "[1237, 31593, 22381, 30826, 2121]\n"
     ]
    }
   ],
   "source": [
    "import pandas as pd\n",
    "from sklearn.metrics.pairwise import cosine_similarity\n",
    "\n",
    "user_ratings = pd.read_csv(r\"C:\\Users\\Tushar Khapre\\Desktop\\Data science assigment\\DS Assignment batch April 2025\\rating.csv\")\n",
    "\n",
    "# Sample 2000 users and 1000 anime for testing (adjust as needed)\n",
    "sample_users = user_ratings['user_id'].drop_duplicates().sample(n=2000, random_state=42)\n",
    "sample_anime = user_ratings['anime_id'].drop_duplicates().sample(n=1000, random_state=42)\n",
    "user_ratings_sample = user_ratings[user_ratings['user_id'].isin(sample_users) & user_ratings['anime_id'].isin(sample_anime)]\n",
    "\n",
    "user_anime_matrix = user_ratings_sample.pivot_table(index='user_id', columns='anime_id', values='rating')\n",
    "\n",
    "def recommend_user_based(user_id, user_anime_matrix, top_n=5):\n",
    "    user_vector = user_anime_matrix.loc[[user_id]].fillna(0)\n",
    "    all_vectors = user_anime_matrix.fillna(0)\n",
    "    similarities = cosine_similarity(user_vector, all_vectors)[0]\n",
    "    sim_series = pd.Series(similarities, index=all_vectors.index)\n",
    "    sim_series = sim_series.drop(user_id).sort_values(ascending=False)\n",
    "    similar_users = sim_series.head(top_n).index\n",
    "    user_watched = set(user_anime_matrix.loc[user_id].dropna().index)\n",
    "    recommendations = []\n",
    "    for sim_user in similar_users:\n",
    "        sim_user_watched = set(user_anime_matrix.loc[sim_user].dropna().index)\n",
    "        recommendations.extend(list(sim_user_watched - user_watched))\n",
    "    return list(pd.Series(recommendations).value_counts().head(top_n).index)\n",
    "\n",
    "def recommend_item_based(anime_id, user_anime_matrix, top_n=5):\n",
    "    item_vector = user_anime_matrix[anime_id].fillna(0).values.reshape(1, -1)\n",
    "    all_vectors = user_anime_matrix.fillna(0).T.values\n",
    "    similarities = cosine_similarity(item_vector, all_vectors)[0]\n",
    "    sim_series = pd.Series(similarities, index=user_anime_matrix.columns)\n",
    "    sim_series = sim_series.drop(anime_id).sort_values(ascending=False)\n",
    "    similar_items = sim_series.head(top_n).index\n",
    "    return list(similar_items)\n",
    "\n",
    "\n",
    "print(recommend_user_based(user_id=sample_users.iloc[0], user_anime_matrix=user_anime_matrix, top_n=5))\n",
    "print(recommend_item_based(anime_id=sample_anime.iloc[0], user_anime_matrix=user_anime_matrix, top_n=5))"
   ]
  },
  {
   "cell_type": "code",
   "execution_count": null,
   "id": "303c7e50",
   "metadata": {},
   "outputs": [],
   "source": []
  }
 ],
 "metadata": {
  "kernelspec": {
   "display_name": "Python 3",
   "language": "python",
   "name": "python3"
  },
  "language_info": {
   "codemirror_mode": {
    "name": "ipython",
    "version": 3
   },
   "file_extension": ".py",
   "mimetype": "text/x-python",
   "name": "python",
   "nbconvert_exporter": "python",
   "pygments_lexer": "ipython3",
   "version": "3.13.2"
  }
 },
 "nbformat": 4,
 "nbformat_minor": 5
}
