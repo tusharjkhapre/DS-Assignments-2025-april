{
 "cells": [
  {
   "cell_type": "code",
   "execution_count": 1,
   "id": "cd47bb49",
   "metadata": {},
   "outputs": [],
   "source": [
    "import numpy as np\n",
    "import scipy.stats as stats"
   ]
  },
  {
   "cell_type": "code",
   "execution_count": 2,
   "id": "81b8c7da",
   "metadata": {},
   "outputs": [],
   "source": [
    "# Given data (durability in millions of characters)\n",
    "durability = np.array([1.13, 1.55, 1.43, 0.92, 1.25, 1.36, 1.32,\n",
    "                       0.85, 1.07, 1.48, 1.20, 1.33, 1.18, 1.22, 1.29])\n"
   ]
  },
  {
   "cell_type": "code",
   "execution_count": 3,
   "id": "9b1613d4",
   "metadata": {},
   "outputs": [
    {
     "name": "stdout",
     "output_type": "stream",
     "text": [
      "Sample Mean: 1.2387\n",
      "Sample Std Dev: 0.1932\n"
     ]
    }
   ],
   "source": [
    "# Sample statistics\n",
    "n = len(durability)\n",
    "sample_mean = np.mean(durability)\n",
    "sample_std = np.std(durability, ddof=1)  # sample standard deviation\n",
    "confidence = 0.99\n",
    "\n",
    "print(f\"Sample Mean: {sample_mean:.4f}\")\n",
    "print(f\"Sample Std Dev: {sample_std:.4f}\")\n",
    "\n",
    "# Task a: 99% CI using sample standard deviation (t-distribution)\n",
    "t_critical = stats.t.ppf((1 + confidence) / 2, df=n-1)\n",
    "margin_error_t = t_critical * (sample_std / np.sqrt(n))"
   ]
  },
  {
   "cell_type": "code",
   "execution_count": 4,
   "id": "3a1432c5",
   "metadata": {},
   "outputs": [
    {
     "name": "stdout",
     "output_type": "stream",
     "text": [
      "\n",
      "(a) 99% Confidence Interval using sample std (t-distribution):\n",
      "CI: (1.0902, 1.3871)\n"
     ]
    }
   ],
   "source": [
    "# Task a: 99% CI using sample standard deviation (t-distribution)\n",
    "t_critical = stats.t.ppf((1 + confidence) / 2, df=n-1)\n",
    "margin_error_t = t_critical * (sample_std / np.sqrt(n))\n",
    "ci_lower_t = sample_mean - margin_error_t\n",
    "ci_upper_t = sample_mean + margin_error_t\n",
    "\n",
    "print(\"\\n(a) 99% Confidence Interval using sample std (t-distribution):\")\n",
    "print(f\"CI: ({ci_lower_t:.4f}, {ci_upper_t:.4f})\")"
   ]
  },
  {
   "cell_type": "code",
   "execution_count": 5,
   "id": "f0cf52a3",
   "metadata": {},
   "outputs": [
    {
     "name": "stdout",
     "output_type": "stream",
     "text": [
      "\n",
      "(b) 99% Confidence Interval using population std (z-distribution):\n",
      "CI: (1.1057, 1.3717)\n"
     ]
    }
   ],
   "source": [
    "# Task b: 99% CI using known population standard deviation (z-distribution)\n",
    "population_std = 0.2\n",
    "z_critical = stats.norm.ppf((1 + confidence) / 2)\n",
    "margin_error_z = z_critical * (population_std / np.sqrt(n))\n",
    "\n",
    "ci_lower_z = sample_mean - margin_error_z\n",
    "ci_upper_z = sample_mean + margin_error_z\n",
    "\n",
    "print(\"\\n(b) 99% Confidence Interval using population std (z-distribution):\")\n",
    "print(f\"CI: ({ci_lower_z:.4f}, {ci_upper_z:.4f})\")"
   ]
  }
 ],
 "metadata": {
  "kernelspec": {
   "display_name": "base",
   "language": "python",
   "name": "python3"
  },
  "language_info": {
   "codemirror_mode": {
    "name": "ipython",
    "version": 3
   },
   "file_extension": ".py",
   "mimetype": "text/x-python",
   "name": "python",
   "nbconvert_exporter": "python",
   "pygments_lexer": "ipython3",
   "version": "3.12.7"
  }
 },
 "nbformat": 4,
 "nbformat_minor": 5
}
