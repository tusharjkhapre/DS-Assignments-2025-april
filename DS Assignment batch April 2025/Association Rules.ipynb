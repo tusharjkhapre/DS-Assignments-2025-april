{
 "cells": [
  {
   "cell_type": "code",
   "execution_count": 1,
   "id": "495c472f",
   "metadata": {},
   "outputs": [],
   "source": [
    "import pandas as pd \n",
    "from mlxtend.preprocessing import TransactionEncoder\n",
    "from mlxtend.frequent_patterns import apriori, association_rules\n",
    "# Load data\n",
    "df = pd.read_excel(r\"C:\\Users\\hp\\Downloads\\Association Rules\\Association Rules\\Online retail.xlsx\")\n"
   ]
  },
  {
   "cell_type": "code",
   "execution_count": 2,
   "id": "dc423002",
   "metadata": {},
   "outputs": [],
   "source": [
    "# 2. Rename the column if needed\n",
    "df.columns = ['Food Items']"
   ]
  },
  {
   "cell_type": "code",
   "execution_count": null,
   "id": "ef47c466",
   "metadata": {},
   "outputs": [],
   "source": [
    "# 3. Convert comma-separated string to list"
   ]
  },
  {
   "cell_type": "code",
   "execution_count": 4,
   "id": "17b3da73",
   "metadata": {},
   "outputs": [
    {
     "data": {
      "text/html": [
       "<div>\n",
       "<style scoped>\n",
       "    .dataframe tbody tr th:only-of-type {\n",
       "        vertical-align: middle;\n",
       "    }\n",
       "\n",
       "    .dataframe tbody tr th {\n",
       "        vertical-align: top;\n",
       "    }\n",
       "\n",
       "    .dataframe thead th {\n",
       "        text-align: right;\n",
       "    }\n",
       "</style>\n",
       "<table border=\"1\" class=\"dataframe\">\n",
       "  <thead>\n",
       "    <tr style=\"text-align: right;\">\n",
       "      <th></th>\n",
       "      <th>Food Items</th>\n",
       "    </tr>\n",
       "  </thead>\n",
       "  <tbody>\n",
       "    <tr>\n",
       "      <th>0</th>\n",
       "      <td>[burgers, meatballs, eggs]</td>\n",
       "    </tr>\n",
       "    <tr>\n",
       "      <th>1</th>\n",
       "      <td>[chutney]</td>\n",
       "    </tr>\n",
       "    <tr>\n",
       "      <th>2</th>\n",
       "      <td>[turkey, avocado]</td>\n",
       "    </tr>\n",
       "    <tr>\n",
       "      <th>3</th>\n",
       "      <td>[mineral water, milk, energy bar, whole wheat ...</td>\n",
       "    </tr>\n",
       "    <tr>\n",
       "      <th>4</th>\n",
       "      <td>[low fat yogurt]</td>\n",
       "    </tr>\n",
       "  </tbody>\n",
       "</table>\n",
       "</div>"
      ],
      "text/plain": [
       "                                          Food Items\n",
       "0                         [burgers, meatballs, eggs]\n",
       "1                                          [chutney]\n",
       "2                                  [turkey, avocado]\n",
       "3  [mineral water, milk, energy bar, whole wheat ...\n",
       "4                                   [low fat yogurt]"
      ]
     },
     "execution_count": 4,
     "metadata": {},
     "output_type": "execute_result"
    }
   ],
   "source": [
    "df.head()"
   ]
  },
  {
   "cell_type": "code",
   "execution_count": 5,
   "id": "778d83d8",
   "metadata": {},
   "outputs": [],
   "source": [
    "# 4. One-hot encode the transaction list using TransactionEncoder\n",
    "te = TransactionEncoder()\n",
    "te_array = te.fit(df['Food Items']).transform(df['Food Items'])\n",
    "basket = pd.DataFrame(te_array, columns=te.columns_)"
   ]
  },
  {
   "cell_type": "code",
   "execution_count": 7,
   "id": "8819c857",
   "metadata": {},
   "outputs": [],
   "source": [
    "# 5. Apply Apriori algorithm to get frequent itemsets\n",
    "frequent_items = apriori(basket, min_support=0.1, use_colnames=True)"
   ]
  },
  {
   "cell_type": "code",
   "execution_count": 8,
   "id": "b89436b5",
   "metadata": {},
   "outputs": [],
   "source": [
    "# 6. Generate association rules from frequent itemsets\n",
    "rules = association_rules(frequent_items, metric='lift', min_threshold=1.0)"
   ]
  },
  {
   "cell_type": "code",
   "execution_count": 11,
   "id": "e9400e76",
   "metadata": {},
   "outputs": [],
   "source": [
    "# 7. Filter rules based on confidence and lift\n",
    "filtered_rules = rules[(rules['confidence'] >= 0.5) & (rules['lift'] >= 1.2)]"
   ]
  },
  {
   "cell_type": "code",
   "execution_count": 12,
   "id": "6a85c6b0",
   "metadata": {},
   "outputs": [
    {
     "data": {
      "text/html": [
       "<div>\n",
       "<style scoped>\n",
       "    .dataframe tbody tr th:only-of-type {\n",
       "        vertical-align: middle;\n",
       "    }\n",
       "\n",
       "    .dataframe tbody tr th {\n",
       "        vertical-align: top;\n",
       "    }\n",
       "\n",
       "    .dataframe thead th {\n",
       "        text-align: right;\n",
       "    }\n",
       "</style>\n",
       "<table border=\"1\" class=\"dataframe\">\n",
       "  <thead>\n",
       "    <tr style=\"text-align: right;\">\n",
       "      <th></th>\n",
       "      <th>antecedents</th>\n",
       "      <th>consequents</th>\n",
       "      <th>antecedent support</th>\n",
       "      <th>consequent support</th>\n",
       "      <th>support</th>\n",
       "      <th>confidence</th>\n",
       "      <th>lift</th>\n",
       "      <th>representativity</th>\n",
       "      <th>leverage</th>\n",
       "      <th>conviction</th>\n",
       "      <th>zhangs_metric</th>\n",
       "      <th>jaccard</th>\n",
       "      <th>certainty</th>\n",
       "      <th>kulczynski</th>\n",
       "    </tr>\n",
       "  </thead>\n",
       "  <tbody>\n",
       "  </tbody>\n",
       "</table>\n",
       "</div>"
      ],
      "text/plain": [
       "Empty DataFrame\n",
       "Columns: [antecedents, consequents, antecedent support, consequent support, support, confidence, lift, representativity, leverage, conviction, zhangs_metric, jaccard, certainty, kulczynski]\n",
       "Index: []"
      ]
     },
     "execution_count": 12,
     "metadata": {},
     "output_type": "execute_result"
    }
   ],
   "source": [
    "filtered_rules"
   ]
  },
  {
   "cell_type": "code",
   "execution_count": 13,
   "id": "d26d38a8",
   "metadata": {},
   "outputs": [
    {
     "name": "stdout",
     "output_type": "stream",
     "text": [
      "Frequent Itemsets:\n",
      "     support         itemsets\n",
      "0  0.163867      (chocolate)\n",
      "1  0.179733           (eggs)\n",
      "2  0.170933   (french fries)\n",
      "3  0.132000      (green tea)\n",
      "4  0.129600           (milk)\n",
      "5  0.238267  (mineral water)\n",
      "6  0.174133      (spaghetti)\n",
      "\n",
      "Filtered Association Rules:\n",
      " Empty DataFrame\n",
      "Columns: [antecedents, consequents, support, confidence, lift]\n",
      "Index: []\n"
     ]
    }
   ],
   "source": [
    "# 8. Display results\n",
    "print(\"Frequent Itemsets:\\n\", frequent_items)\n",
    "print(\"\\nFiltered Association Rules:\\n\", filtered_rules[['antecedents', 'consequents', 'support', 'confidence', 'lift']])"
   ]
  }
 ],
 "metadata": {
  "kernelspec": {
   "display_name": "base",
   "language": "python",
   "name": "python3"
  },
  "language_info": {
   "codemirror_mode": {
    "name": "ipython",
    "version": 3
   },
   "file_extension": ".py",
   "mimetype": "text/x-python",
   "name": "python",
   "nbconvert_exporter": "python",
   "pygments_lexer": "ipython3",
   "version": "3.12.7"
  }
 },
 "nbformat": 4,
 "nbformat_minor": 5
}
