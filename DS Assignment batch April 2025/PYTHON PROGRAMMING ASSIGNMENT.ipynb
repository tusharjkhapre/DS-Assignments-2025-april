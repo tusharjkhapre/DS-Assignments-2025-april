{
 "cells": [
  {
   "cell_type": "markdown",
   "id": "55f53cf5",
   "metadata": {},
   "source": [
    "PYTHON PROGRAMMING ASSIGNMENT\n",
    "Coding Exercises\n"
   ]
  },
  {
   "cell_type": "markdown",
   "id": "56a3512c",
   "metadata": {},
   "source": [
    "Exercise 1: Prime Numbers\n",
    "Write a Python program that checks whether a given number is prime or not. A prime number is a natural number greater than 1 that has no positive divisors other than 1 and itself.\n"
   ]
  },
  {
   "cell_type": "code",
   "execution_count": 1,
   "id": "974e3267",
   "metadata": {},
   "outputs": [
    {
     "name": "stdout",
     "output_type": "stream",
     "text": [
      "Is 29 a prime number? True\n"
     ]
    }
   ],
   "source": [
    "# Exercise 1: Check Prime Number\n",
    "def is_prime(n):\n",
    "    \"\"\"Check if a number is prime.\"\"\"\n",
    "    if n <= 1:\n",
    "        return False\n",
    "    for i in range(2, int(n**0.5)+1):\n",
    "        if n % i == 0:\n",
    "            return False\n",
    "    return True\n",
    "\n",
    "# Example\n",
    "num = 29\n",
    "print(f\"Is {num} a prime number? {is_prime(num)}\")\n"
   ]
  },
  {
   "cell_type": "markdown",
   "id": "e9b5b32a",
   "metadata": {},
   "source": [
    "Exercise 2: Product of Random Numbers\n",
    "Develop a Python program that generates two random numbers and asks the user to enter the product of these numbers. The program should then check if the user's answer is correct and display an appropriate message.\n"
   ]
  },
  {
   "cell_type": "code",
   "execution_count": null,
   "id": "9742e82b",
   "metadata": {},
   "outputs": [
    {
     "name": "stdout",
     "output_type": "stream",
     "text": [
      "Multiply the following numbers: 9 * 8\n"
     ]
    }
   ],
   "source": [
    "# Exercise 2: Product of Random Numbers\n",
    "import random\n",
    "\n",
    "a = random.randint(1, 10)\n",
    "b = random.randint(1, 10)\n",
    "\n",
    "print(f\"Multiply the following numbers: {a} * {b}\")\n",
    "user_input = int(input(\"Your Answer: \"))\n",
    "\n",
    "if user_input == a * b:\n",
    "    print(\"Correct!\")\n",
    "else:\n",
    "    print(f\"Incorrect. The correct answer is {a * b}.\")\n"
   ]
  },
  {
   "cell_type": "markdown",
   "id": "5f9d5081",
   "metadata": {},
   "source": [
    "Exercise 3: Squares of Even/Odd Numbers\n",
    "Create a Python script that prints the squares of all even or odd numbers within the range of 100 to 200. Choose either even or odd numbers and document your choice in the code.\n"
   ]
  },
  {
   "cell_type": "code",
   "execution_count": 1,
   "id": "8f3c7435",
   "metadata": {},
   "outputs": [
    {
     "name": "stdout",
     "output_type": "stream",
     "text": [
      "Squares of even numbers from 100 to 200:\n",
      "100^2 = 10000\n",
      "102^2 = 10404\n",
      "104^2 = 10816\n",
      "106^2 = 11236\n",
      "108^2 = 11664\n",
      "110^2 = 12100\n",
      "112^2 = 12544\n",
      "114^2 = 12996\n",
      "116^2 = 13456\n",
      "118^2 = 13924\n",
      "120^2 = 14400\n",
      "122^2 = 14884\n",
      "124^2 = 15376\n",
      "126^2 = 15876\n",
      "128^2 = 16384\n",
      "130^2 = 16900\n",
      "132^2 = 17424\n",
      "134^2 = 17956\n",
      "136^2 = 18496\n",
      "138^2 = 19044\n",
      "140^2 = 19600\n",
      "142^2 = 20164\n",
      "144^2 = 20736\n",
      "146^2 = 21316\n",
      "148^2 = 21904\n",
      "150^2 = 22500\n",
      "152^2 = 23104\n",
      "154^2 = 23716\n",
      "156^2 = 24336\n",
      "158^2 = 24964\n",
      "160^2 = 25600\n",
      "162^2 = 26244\n",
      "164^2 = 26896\n",
      "166^2 = 27556\n",
      "168^2 = 28224\n",
      "170^2 = 28900\n",
      "172^2 = 29584\n",
      "174^2 = 30276\n",
      "176^2 = 30976\n",
      "178^2 = 31684\n",
      "180^2 = 32400\n",
      "182^2 = 33124\n",
      "184^2 = 33856\n",
      "186^2 = 34596\n",
      "188^2 = 35344\n",
      "190^2 = 36100\n",
      "192^2 = 36864\n",
      "194^2 = 37636\n",
      "196^2 = 38416\n",
      "198^2 = 39204\n",
      "200^2 = 40000\n"
     ]
    }
   ],
   "source": [
    "# Exercise 3: Squares of Even Numbers from 100 to 200\n",
    "# Choice: EVEN Numbers\n",
    "\n",
    "print(\"Squares of even numbers from 100 to 200:\")\n",
    "for i in range(100, 201):\n",
    "    if i % 2 == 0:\n",
    "        print(f\"{i}^2 = {i**2}\")\n"
   ]
  },
  {
   "cell_type": "markdown",
   "id": "d1a8b5c5",
   "metadata": {},
   "source": [
    "Exercise 4: Word counter\n",
    "write a program to count the number of words in a given text.\n",
    "example:\n",
    "input_text = \"This is a sample text. This text will be used to demonstrate the word counter.\"\n",
    "Expected output:\n",
    "'This': 2 \n",
    "'is': 1\n",
    "'a': 1\n",
    "'sample': 1\n",
    "'text.': 1\n",
    "\n"
   ]
  },
  {
   "cell_type": "code",
   "execution_count": 2,
   "id": "ca888830",
   "metadata": {},
   "outputs": [
    {
     "name": "stdout",
     "output_type": "stream",
     "text": [
      "Word Frequencies:\n",
      "'This': 2\n",
      "'is': 1\n",
      "'a': 1\n",
      "'sample': 1\n",
      "'text.': 1\n",
      "'text': 1\n",
      "'will': 1\n",
      "'be': 1\n",
      "'used': 1\n",
      "'to': 1\n",
      "'demonstrate': 1\n",
      "'the': 1\n",
      "'word': 1\n",
      "'counter.': 1\n"
     ]
    }
   ],
   "source": [
    "# Exercise 4: Word Counter\n",
    "from collections import Counter\n",
    "\n",
    "input_text = \"This is a sample text. This text will be used to demonstrate the word counter.\"\n",
    "words = input_text.split()\n",
    "word_count = Counter(words)\n",
    "\n",
    "print(\"Word Frequencies:\")\n",
    "for word, count in word_count.items():\n",
    "    print(f\"'{word}': {count}\")\n"
   ]
  },
  {
   "cell_type": "markdown",
   "id": "a52ee03d",
   "metadata": {},
   "source": [
    "Exercise 5: Check for Palindrome\n",
    "Write a Python function called is_palindrome that takes a string as input and returns True if the string is a palindrome, and False otherwise. A palindrome is a word, phrase, number, or other sequence of characters that reads the same forward and backward, ignoring spaces, punctuation, and capitalization.\n",
    "Example:\n",
    "Input: \"racecar\"\n",
    "Expected Output: True\n"
   ]
  },
  {
   "cell_type": "code",
   "execution_count": 3,
   "id": "72741282",
   "metadata": {},
   "outputs": [
    {
     "name": "stdout",
     "output_type": "stream",
     "text": [
      "Is 'Racecar' a palindrome? True\n"
     ]
    }
   ],
   "source": [
    "# Exercise 5: Check for Palindrome\n",
    "\n",
    "def is_palindrome(s):\n",
    "    \"\"\"Check if a string is a palindrome (ignores spaces, punctuation, case).\"\"\"\n",
    "    cleaned = ''.join(char.lower() for char in s if char.isalnum())\n",
    "    return cleaned == cleaned[::-1]\n",
    "\n",
    "# Example\n",
    "test_word = \"Racecar\"\n",
    "print(f\"Is '{test_word}' a palindrome? {is_palindrome(test_word)}\")\n"
   ]
  }
 ],
 "metadata": {
  "kernelspec": {
   "display_name": "Python 3",
   "language": "python",
   "name": "python3"
  },
  "language_info": {
   "codemirror_mode": {
    "name": "ipython",
    "version": 3
   },
   "file_extension": ".py",
   "mimetype": "text/x-python",
   "name": "python",
   "nbconvert_exporter": "python",
   "pygments_lexer": "ipython3",
   "version": "3.13.2"
  }
 },
 "nbformat": 4,
 "nbformat_minor": 5
}
